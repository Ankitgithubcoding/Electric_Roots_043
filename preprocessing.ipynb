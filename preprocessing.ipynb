{
 "cells": [
  {
   "cell_type": "markdown",
   "id": "397e0d2a-6554-4308-985c-85e208cf2e40",
   "metadata": {},
   "source": [
    "# Importing Libraries"
   ]
  },
  {
   "cell_type": "code",
   "execution_count": 66,
   "id": "f2f16a24-f299-4530-abfa-7bf1387fece9",
   "metadata": {},
   "outputs": [],
   "source": [
    "#importing Pandas library\n",
    "import pandas as pd"
   ]
  },
  {
   "cell_type": "markdown",
   "id": "2710b106-9299-46a0-91a8-9eb21c7c8617",
   "metadata": {},
   "source": [
    "# Performance Rating Cleaning and Processing"
   ]
  },
  {
   "cell_type": "code",
   "execution_count": 65,
   "id": "97ff4ad8-34bb-4425-8b08-16b74c0df070",
   "metadata": {},
   "outputs": [
    {
     "data": {
      "text/html": [
       "<div>\n",
       "<style scoped>\n",
       "    .dataframe tbody tr th:only-of-type {\n",
       "        vertical-align: middle;\n",
       "    }\n",
       "\n",
       "    .dataframe tbody tr th {\n",
       "        vertical-align: top;\n",
       "    }\n",
       "\n",
       "    .dataframe thead th {\n",
       "        text-align: right;\n",
       "    }\n",
       "</style>\n",
       "<table border=\"1\" class=\"dataframe\">\n",
       "  <thead>\n",
       "    <tr style=\"text-align: right;\">\n",
       "      <th></th>\n",
       "      <th>PerformanceID</th>\n",
       "      <th>EmployeeID</th>\n",
       "      <th>ReviewDate</th>\n",
       "      <th>EnvironmentSatisfaction</th>\n",
       "      <th>JobSatisfaction</th>\n",
       "      <th>RelationshipSatisfaction</th>\n",
       "      <th>TrainingOpportunitiesWithinYear</th>\n",
       "      <th>TrainingOpportunitiesTaken</th>\n",
       "      <th>WorkLifeBalance</th>\n",
       "      <th>SelfRating</th>\n",
       "      <th>ManagerRating</th>\n",
       "    </tr>\n",
       "  </thead>\n",
       "  <tbody>\n",
       "    <tr>\n",
       "      <th>0</th>\n",
       "      <td>PR01</td>\n",
       "      <td>79F7-78EC</td>\n",
       "      <td>2013-01-02</td>\n",
       "      <td>5</td>\n",
       "      <td>4</td>\n",
       "      <td>5</td>\n",
       "      <td>1</td>\n",
       "      <td>0</td>\n",
       "      <td>4</td>\n",
       "      <td>4</td>\n",
       "      <td>4</td>\n",
       "    </tr>\n",
       "    <tr>\n",
       "      <th>1</th>\n",
       "      <td>PR02</td>\n",
       "      <td>B61E-0F26</td>\n",
       "      <td>2013-01-03</td>\n",
       "      <td>5</td>\n",
       "      <td>4</td>\n",
       "      <td>4</td>\n",
       "      <td>1</td>\n",
       "      <td>3</td>\n",
       "      <td>4</td>\n",
       "      <td>4</td>\n",
       "      <td>3</td>\n",
       "    </tr>\n",
       "    <tr>\n",
       "      <th>2</th>\n",
       "      <td>PR03</td>\n",
       "      <td>F5E3-48BB</td>\n",
       "      <td>2013-01-03</td>\n",
       "      <td>3</td>\n",
       "      <td>4</td>\n",
       "      <td>5</td>\n",
       "      <td>3</td>\n",
       "      <td>2</td>\n",
       "      <td>3</td>\n",
       "      <td>5</td>\n",
       "      <td>4</td>\n",
       "    </tr>\n",
       "    <tr>\n",
       "      <th>3</th>\n",
       "      <td>PR04</td>\n",
       "      <td>0678-748A</td>\n",
       "      <td>2013-01-04</td>\n",
       "      <td>5</td>\n",
       "      <td>3</td>\n",
       "      <td>2</td>\n",
       "      <td>2</td>\n",
       "      <td>0</td>\n",
       "      <td>2</td>\n",
       "      <td>3</td>\n",
       "      <td>2</td>\n",
       "    </tr>\n",
       "    <tr>\n",
       "      <th>4</th>\n",
       "      <td>PR05</td>\n",
       "      <td>541F-3E19</td>\n",
       "      <td>2013-01-04</td>\n",
       "      <td>5</td>\n",
       "      <td>2</td>\n",
       "      <td>3</td>\n",
       "      <td>1</td>\n",
       "      <td>0</td>\n",
       "      <td>4</td>\n",
       "      <td>4</td>\n",
       "      <td>3</td>\n",
       "    </tr>\n",
       "  </tbody>\n",
       "</table>\n",
       "</div>"
      ],
      "text/plain": [
       "  PerformanceID EmployeeID  ReviewDate  ...  WorkLifeBalance  SelfRating  ManagerRating\n",
       "0          PR01  79F7-78EC  2013-01-02  ...                4           4              4\n",
       "1          PR02  B61E-0F26  2013-01-03  ...                4           4              3\n",
       "2          PR03  F5E3-48BB  2013-01-03  ...                3           5              4\n",
       "3          PR04  0678-748A  2013-01-04  ...                2           3              2\n",
       "4          PR05  541F-3E19  2013-01-04  ...                4           4              3\n",
       "\n",
       "[5 rows x 11 columns]"
      ]
     },
     "execution_count": 65,
     "metadata": {},
     "output_type": "execute_result"
    }
   ],
   "source": [
    "# Creating dataframe for Performance Rating using Pandas\n",
    "performance_df=pd.read_csv(\"PerformanceRating.csv\")\n",
    "performance_df.head()"
   ]
  },
  {
   "cell_type": "code",
   "execution_count": 18,
   "id": "89112d8d-b0d9-42cf-b679-049cc22fc7d1",
   "metadata": {},
   "outputs": [
    {
     "data": {
      "text/plain": [
       "PerformanceID                              object\n",
       "EmployeeID                                 object\n",
       "ReviewDate                         datetime64[ns]\n",
       "EnvironmentSatisfaction                     int64\n",
       "JobSatisfaction                             int64\n",
       "RelationshipSatisfaction                    int64\n",
       "TrainingOpportunitiesWithinYear             int64\n",
       "TrainingOpportunitiesTaken                  int64\n",
       "WorkLifeBalance                             int64\n",
       "SelfRating                                  int64\n",
       "ManagerRating                               int64\n",
       "dtype: object"
      ]
     },
     "execution_count": 18,
     "metadata": {},
     "output_type": "execute_result"
    }
   ],
   "source": [
    "# Checking for datatypes in Performance Rating Table\n",
    "performance_df.dtypes"
   ]
  },
  {
   "cell_type": "code",
   "execution_count": 22,
   "id": "eda2f00f-7752-4b03-82fb-3164ccae8a64",
   "metadata": {},
   "outputs": [
    {
     "data": {
      "text/plain": [
       "PerformanceID                              object\n",
       "EmployeeID                                 object\n",
       "ReviewDate                         datetime64[ns]\n",
       "EnvironmentSatisfaction                     int64\n",
       "JobSatisfaction                             int64\n",
       "RelationshipSatisfaction                    int64\n",
       "TrainingOpportunitiesWithinYear             int64\n",
       "TrainingOpportunitiesTaken                  int64\n",
       "WorkLifeBalance                             int64\n",
       "SelfRating                                  int64\n",
       "ManagerRating                               int64\n",
       "dtype: object"
      ]
     },
     "execution_count": 22,
     "metadata": {},
     "output_type": "execute_result"
    }
   ],
   "source": [
    "# Changing the datatype of Review Date column in Performance Rating from Object to Datetime\n",
    "performance_df['ReviewDate']=pd.to_datetime(performance_df['ReviewDate'])\n",
    "performance_df.dtypes"
   ]
  },
  {
   "cell_type": "code",
   "execution_count": 24,
   "id": "8cab0005-dc97-4423-94c5-a1ce2a8f7632",
   "metadata": {},
   "outputs": [
    {
     "data": {
      "text/plain": [
       "PerformanceID                      0\n",
       "EmployeeID                         0\n",
       "ReviewDate                         0\n",
       "EnvironmentSatisfaction            0\n",
       "JobSatisfaction                    0\n",
       "RelationshipSatisfaction           0\n",
       "TrainingOpportunitiesWithinYear    0\n",
       "TrainingOpportunitiesTaken         0\n",
       "WorkLifeBalance                    0\n",
       "SelfRating                         0\n",
       "ManagerRating                      0\n",
       "dtype: int64"
      ]
     },
     "execution_count": 24,
     "metadata": {},
     "output_type": "execute_result"
    }
   ],
   "source": [
    "# Checking for null / error values\n",
    "performance_df.isna().sum()"
   ]
  },
  {
   "cell_type": "code",
   "execution_count": 25,
   "id": "c16c06ff-b465-4f1e-9f64-abc5af47f644",
   "metadata": {},
   "outputs": [
    {
     "data": {
      "text/plain": [
       "0"
      ]
     },
     "execution_count": 25,
     "metadata": {},
     "output_type": "execute_result"
    }
   ],
   "source": [
    "# Checking for duplicates\n",
    "performance_df.duplicated().sum()"
   ]
  },
  {
   "cell_type": "code",
   "execution_count": 43,
   "id": "359b45d8-d5bf-4711-a9d9-92f49f641fff",
   "metadata": {},
   "outputs": [],
   "source": [
    "# Saving the cleaned file to as CSV doc\n",
    "performance_df.to_csv('PerformanceRating.csv',index=False)"
   ]
  },
  {
   "cell_type": "markdown",
   "id": "fece6661-0372-4c68-9f85-54d3c0bb380d",
   "metadata": {},
   "source": [
    "# Employee cleaning and Processing"
   ]
  },
  {
   "cell_type": "code",
   "execution_count": 31,
   "id": "4f906268-04c5-4f42-9163-7e503a89723e",
   "metadata": {},
   "outputs": [
    {
     "data": {
      "text/html": [
       "<div>\n",
       "<style scoped>\n",
       "    .dataframe tbody tr th:only-of-type {\n",
       "        vertical-align: middle;\n",
       "    }\n",
       "\n",
       "    .dataframe tbody tr th {\n",
       "        vertical-align: top;\n",
       "    }\n",
       "\n",
       "    .dataframe thead th {\n",
       "        text-align: right;\n",
       "    }\n",
       "</style>\n",
       "<table border=\"1\" class=\"dataframe\">\n",
       "  <thead>\n",
       "    <tr style=\"text-align: right;\">\n",
       "      <th></th>\n",
       "      <th>EmployeeID</th>\n",
       "      <th>FirstName</th>\n",
       "      <th>LastName</th>\n",
       "      <th>Gender</th>\n",
       "      <th>Age</th>\n",
       "      <th>BusinessTravel</th>\n",
       "      <th>Department</th>\n",
       "      <th>DistanceFromHome (KM)</th>\n",
       "      <th>State</th>\n",
       "      <th>Ethnicity</th>\n",
       "      <th>Education</th>\n",
       "      <th>EducationField</th>\n",
       "      <th>JobRole</th>\n",
       "      <th>MaritalStatus</th>\n",
       "      <th>Salary</th>\n",
       "      <th>StockOptionLevel</th>\n",
       "      <th>OverTime</th>\n",
       "      <th>HireDate</th>\n",
       "      <th>Attrition</th>\n",
       "      <th>YearsAtCompany</th>\n",
       "      <th>YearsInMostRecentRole</th>\n",
       "      <th>YearsSinceLastPromotion</th>\n",
       "      <th>YearsWithCurrManager</th>\n",
       "    </tr>\n",
       "  </thead>\n",
       "  <tbody>\n",
       "    <tr>\n",
       "      <th>0</th>\n",
       "      <td>3012-1A41</td>\n",
       "      <td>Leonelle</td>\n",
       "      <td>Simco</td>\n",
       "      <td>Female</td>\n",
       "      <td>30</td>\n",
       "      <td>Some Travel</td>\n",
       "      <td>Sales</td>\n",
       "      <td>27</td>\n",
       "      <td>IL</td>\n",
       "      <td>White</td>\n",
       "      <td>5</td>\n",
       "      <td>Marketing</td>\n",
       "      <td>Sales Executive</td>\n",
       "      <td>Divorced</td>\n",
       "      <td>102059</td>\n",
       "      <td>1</td>\n",
       "      <td>No</td>\n",
       "      <td>2012-01-03</td>\n",
       "      <td>No</td>\n",
       "      <td>10</td>\n",
       "      <td>4</td>\n",
       "      <td>9</td>\n",
       "      <td>7</td>\n",
       "    </tr>\n",
       "    <tr>\n",
       "      <th>1</th>\n",
       "      <td>CBCB-9C9D</td>\n",
       "      <td>Leonerd</td>\n",
       "      <td>Aland</td>\n",
       "      <td>Male</td>\n",
       "      <td>38</td>\n",
       "      <td>Some Travel</td>\n",
       "      <td>Sales</td>\n",
       "      <td>23</td>\n",
       "      <td>CA</td>\n",
       "      <td>White</td>\n",
       "      <td>4</td>\n",
       "      <td>Marketing</td>\n",
       "      <td>Sales Executive</td>\n",
       "      <td>Single</td>\n",
       "      <td>157718</td>\n",
       "      <td>0</td>\n",
       "      <td>Yes</td>\n",
       "      <td>2012-01-04</td>\n",
       "      <td>No</td>\n",
       "      <td>10</td>\n",
       "      <td>6</td>\n",
       "      <td>10</td>\n",
       "      <td>0</td>\n",
       "    </tr>\n",
       "    <tr>\n",
       "      <th>2</th>\n",
       "      <td>95D7-1CE9</td>\n",
       "      <td>Ahmed</td>\n",
       "      <td>Sykes</td>\n",
       "      <td>Male</td>\n",
       "      <td>43</td>\n",
       "      <td>Some Travel</td>\n",
       "      <td>Human Resources</td>\n",
       "      <td>29</td>\n",
       "      <td>CA</td>\n",
       "      <td>Asian or Asian American</td>\n",
       "      <td>4</td>\n",
       "      <td>Marketing</td>\n",
       "      <td>HR Business Partner</td>\n",
       "      <td>Married</td>\n",
       "      <td>309964</td>\n",
       "      <td>1</td>\n",
       "      <td>No</td>\n",
       "      <td>2012-01-04</td>\n",
       "      <td>No</td>\n",
       "      <td>10</td>\n",
       "      <td>6</td>\n",
       "      <td>10</td>\n",
       "      <td>8</td>\n",
       "    </tr>\n",
       "    <tr>\n",
       "      <th>3</th>\n",
       "      <td>47A0-559B</td>\n",
       "      <td>Ermentrude</td>\n",
       "      <td>Berrie</td>\n",
       "      <td>Non-Binary</td>\n",
       "      <td>39</td>\n",
       "      <td>Some Travel</td>\n",
       "      <td>Technology</td>\n",
       "      <td>12</td>\n",
       "      <td>IL</td>\n",
       "      <td>White</td>\n",
       "      <td>3</td>\n",
       "      <td>Computer Science</td>\n",
       "      <td>Engineering Manager</td>\n",
       "      <td>Married</td>\n",
       "      <td>293132</td>\n",
       "      <td>0</td>\n",
       "      <td>No</td>\n",
       "      <td>2012-01-05</td>\n",
       "      <td>No</td>\n",
       "      <td>10</td>\n",
       "      <td>10</td>\n",
       "      <td>10</td>\n",
       "      <td>0</td>\n",
       "    </tr>\n",
       "    <tr>\n",
       "      <th>4</th>\n",
       "      <td>42CC-040A</td>\n",
       "      <td>Stace</td>\n",
       "      <td>Savege</td>\n",
       "      <td>Female</td>\n",
       "      <td>29</td>\n",
       "      <td>Some Travel</td>\n",
       "      <td>Human Resources</td>\n",
       "      <td>29</td>\n",
       "      <td>CA</td>\n",
       "      <td>White</td>\n",
       "      <td>2</td>\n",
       "      <td>Technical Degree</td>\n",
       "      <td>Recruiter</td>\n",
       "      <td>Single</td>\n",
       "      <td>49606</td>\n",
       "      <td>0</td>\n",
       "      <td>No</td>\n",
       "      <td>2012-01-05</td>\n",
       "      <td>Yes</td>\n",
       "      <td>6</td>\n",
       "      <td>1</td>\n",
       "      <td>1</td>\n",
       "      <td>6</td>\n",
       "    </tr>\n",
       "  </tbody>\n",
       "</table>\n",
       "</div>"
      ],
      "text/plain": [
       "  EmployeeID   FirstName  ... YearsSinceLastPromotion YearsWithCurrManager\n",
       "0  3012-1A41    Leonelle  ...                       9                    7\n",
       "1  CBCB-9C9D     Leonerd  ...                      10                    0\n",
       "2  95D7-1CE9       Ahmed  ...                      10                    8\n",
       "3  47A0-559B  Ermentrude  ...                      10                    0\n",
       "4  42CC-040A       Stace  ...                       1                    6\n",
       "\n",
       "[5 rows x 23 columns]"
      ]
     },
     "execution_count": 31,
     "metadata": {},
     "output_type": "execute_result"
    }
   ],
   "source": [
    "# Creating dataframe for Employee\n",
    "employee_df=pd.read_csv(\"Employee.csv\")\n",
    "employee_df.head()"
   ]
  },
  {
   "cell_type": "code",
   "execution_count": 34,
   "id": "f419272a-9d96-47b5-b59c-35f78ea0accb",
   "metadata": {},
   "outputs": [
    {
     "data": {
      "text/plain": [
       "EmployeeID                 object\n",
       "FirstName                  object\n",
       "LastName                   object\n",
       "Gender                     object\n",
       "Age                         int64\n",
       "BusinessTravel             object\n",
       "Department                 object\n",
       "DistanceFromHome (KM)       int64\n",
       "State                      object\n",
       "Ethnicity                  object\n",
       "Education                   int64\n",
       "EducationField             object\n",
       "JobRole                    object\n",
       "MaritalStatus              object\n",
       "Salary                      int64\n",
       "StockOptionLevel            int64\n",
       "OverTime                   object\n",
       "HireDate                   object\n",
       "Attrition                  object\n",
       "YearsAtCompany              int64\n",
       "YearsInMostRecentRole       int64\n",
       "YearsSinceLastPromotion     int64\n",
       "YearsWithCurrManager        int64\n",
       "dtype: object"
      ]
     },
     "execution_count": 34,
     "metadata": {},
     "output_type": "execute_result"
    }
   ],
   "source": [
    "# Checking for datatypes\n",
    "employee_df.dtypes"
   ]
  },
  {
   "cell_type": "code",
   "execution_count": 38,
   "id": "3f6c6527-8f46-4eef-b647-18a88a35cfd9",
   "metadata": {},
   "outputs": [
    {
     "data": {
      "text/plain": [
       "EmployeeID                         object\n",
       "FirstName                          object\n",
       "LastName                           object\n",
       "Gender                             object\n",
       "Age                                 int64\n",
       "BusinessTravel                     object\n",
       "Department                         object\n",
       "DistanceFromHome (KM)               int64\n",
       "State                              object\n",
       "Ethnicity                          object\n",
       "Education                           int64\n",
       "EducationField                     object\n",
       "JobRole                            object\n",
       "MaritalStatus                      object\n",
       "Salary                              int64\n",
       "StockOptionLevel                    int64\n",
       "OverTime                           object\n",
       "HireDate                   datetime64[ns]\n",
       "Attrition                          object\n",
       "YearsAtCompany                      int64\n",
       "YearsInMostRecentRole               int64\n",
       "YearsSinceLastPromotion             int64\n",
       "YearsWithCurrManager                int64\n",
       "dtype: object"
      ]
     },
     "execution_count": 38,
     "metadata": {},
     "output_type": "execute_result"
    }
   ],
   "source": [
    "# Converting datatype of HireDate from Object to DateTime\n",
    "employee_df['HireDate']=pd.to_datetime(employee_df['HireDate'])\n",
    "employee_df.dtypes"
   ]
  },
  {
   "cell_type": "code",
   "execution_count": 40,
   "id": "020d8d67-80c8-45de-b573-593f4e64d707",
   "metadata": {},
   "outputs": [
    {
     "data": {
      "text/plain": [
       "EmployeeID                 0\n",
       "FirstName                  0\n",
       "LastName                   0\n",
       "Gender                     0\n",
       "Age                        0\n",
       "BusinessTravel             0\n",
       "Department                 0\n",
       "DistanceFromHome (KM)      0\n",
       "State                      0\n",
       "Ethnicity                  0\n",
       "Education                  0\n",
       "EducationField             0\n",
       "JobRole                    0\n",
       "MaritalStatus              0\n",
       "Salary                     0\n",
       "StockOptionLevel           0\n",
       "OverTime                   0\n",
       "HireDate                   0\n",
       "Attrition                  0\n",
       "YearsAtCompany             0\n",
       "YearsInMostRecentRole      0\n",
       "YearsSinceLastPromotion    0\n",
       "YearsWithCurrManager       0\n",
       "dtype: int64"
      ]
     },
     "execution_count": 40,
     "metadata": {},
     "output_type": "execute_result"
    }
   ],
   "source": [
    "# Checking for error/null values\n",
    "employee_df.isna().sum()"
   ]
  },
  {
   "cell_type": "code",
   "execution_count": 42,
   "id": "fbb68723-4449-49a5-a346-d44e0808c8f1",
   "metadata": {},
   "outputs": [
    {
     "data": {
      "text/plain": [
       "0"
      ]
     },
     "execution_count": 42,
     "metadata": {},
     "output_type": "execute_result"
    }
   ],
   "source": [
    "#Checking for duplicate Values\n",
    "employee_df.duplicated().sum()"
   ]
  },
  {
   "cell_type": "code",
   "execution_count": 44,
   "id": "ff73068f-e16c-4ef1-b791-141d8bdc1899",
   "metadata": {},
   "outputs": [],
   "source": [
    "# Saving cleaned file as CSV doc\n",
    "employee_df.to_csv('Employee.csv',index=False)"
   ]
  },
  {
   "cell_type": "markdown",
   "id": "a29f4d24-1e14-4f25-93ea-de8464db9d72",
   "metadata": {},
   "source": [
    "# Education Level cleaning and preprocessing"
   ]
  },
  {
   "cell_type": "code",
   "execution_count": 46,
   "id": "be9515ee-7a6c-4f25-b7f9-fb4610bf5666",
   "metadata": {},
   "outputs": [
    {
     "data": {
      "text/html": [
       "<div>\n",
       "<style scoped>\n",
       "    .dataframe tbody tr th:only-of-type {\n",
       "        vertical-align: middle;\n",
       "    }\n",
       "\n",
       "    .dataframe tbody tr th {\n",
       "        vertical-align: top;\n",
       "    }\n",
       "\n",
       "    .dataframe thead th {\n",
       "        text-align: right;\n",
       "    }\n",
       "</style>\n",
       "<table border=\"1\" class=\"dataframe\">\n",
       "  <thead>\n",
       "    <tr style=\"text-align: right;\">\n",
       "      <th></th>\n",
       "      <th>EducationLevelID</th>\n",
       "      <th>EducationLevel</th>\n",
       "    </tr>\n",
       "  </thead>\n",
       "  <tbody>\n",
       "    <tr>\n",
       "      <th>0</th>\n",
       "      <td>1</td>\n",
       "      <td>No Formal Qualifications</td>\n",
       "    </tr>\n",
       "    <tr>\n",
       "      <th>1</th>\n",
       "      <td>2</td>\n",
       "      <td>High School</td>\n",
       "    </tr>\n",
       "    <tr>\n",
       "      <th>2</th>\n",
       "      <td>3</td>\n",
       "      <td>Bachelors</td>\n",
       "    </tr>\n",
       "    <tr>\n",
       "      <th>3</th>\n",
       "      <td>4</td>\n",
       "      <td>Masters</td>\n",
       "    </tr>\n",
       "    <tr>\n",
       "      <th>4</th>\n",
       "      <td>5</td>\n",
       "      <td>Doctorate</td>\n",
       "    </tr>\n",
       "  </tbody>\n",
       "</table>\n",
       "</div>"
      ],
      "text/plain": [
       "   EducationLevelID            EducationLevel\n",
       "0                 1  No Formal Qualifications\n",
       "1                 2              High School \n",
       "2                 3                Bachelors \n",
       "3                 4                  Masters \n",
       "4                 5                 Doctorate"
      ]
     },
     "execution_count": 46,
     "metadata": {},
     "output_type": "execute_result"
    }
   ],
   "source": [
    "# Creating dataframe for Education Level\n",
    "education_df=pd.read_csv('EducationLevel.csv')\n",
    "education_df.head()"
   ]
  },
  {
   "cell_type": "code",
   "execution_count": 49,
   "id": "bbf92e29-5529-4c6d-835b-2c19dd5e88da",
   "metadata": {},
   "outputs": [
    {
     "data": {
      "text/plain": [
       "EducationLevelID     int64\n",
       "EducationLevel      object\n",
       "dtype: object"
      ]
     },
     "execution_count": 49,
     "metadata": {},
     "output_type": "execute_result"
    }
   ],
   "source": [
    "# Checking for Datatypes\n",
    "education_df.dtypes"
   ]
  },
  {
   "cell_type": "code",
   "execution_count": 50,
   "id": "8de0c337-58d6-4d20-bab0-fb6383b4538f",
   "metadata": {},
   "outputs": [
    {
     "data": {
      "text/plain": [
       "EducationLevelID    0\n",
       "EducationLevel      0\n",
       "dtype: int64"
      ]
     },
     "execution_count": 50,
     "metadata": {},
     "output_type": "execute_result"
    }
   ],
   "source": [
    "#Checking for null/error values\n",
    "education_df.isna().sum()"
   ]
  },
  {
   "cell_type": "code",
   "execution_count": 51,
   "id": "9f0dc6e6-151c-4b83-a3bf-c4df813633b2",
   "metadata": {},
   "outputs": [
    {
     "data": {
      "text/plain": [
       "0"
      ]
     },
     "execution_count": 51,
     "metadata": {},
     "output_type": "execute_result"
    }
   ],
   "source": [
    "#Checking for duplicates\n",
    "education_df.duplicated().sum()"
   ]
  },
  {
   "cell_type": "code",
   "execution_count": 52,
   "id": "5db0c36e-b90a-40a9-8416-c6d200f98239",
   "metadata": {},
   "outputs": [],
   "source": [
    "# Saving the file to as a CSV\n",
    "education_df.to_csv('EducationLevel.csv',index=False)"
   ]
  },
  {
   "cell_type": "markdown",
   "id": "3323ada8-7007-417f-b5c9-a5b4173b0d0a",
   "metadata": {},
   "source": [
    "# Rating Level cleaning and Processing"
   ]
  },
  {
   "cell_type": "code",
   "execution_count": 53,
   "id": "8a52a24c-0b92-46d0-8486-bf365cafea81",
   "metadata": {},
   "outputs": [
    {
     "data": {
      "text/html": [
       "<div>\n",
       "<style scoped>\n",
       "    .dataframe tbody tr th:only-of-type {\n",
       "        vertical-align: middle;\n",
       "    }\n",
       "\n",
       "    .dataframe tbody tr th {\n",
       "        vertical-align: top;\n",
       "    }\n",
       "\n",
       "    .dataframe thead th {\n",
       "        text-align: right;\n",
       "    }\n",
       "</style>\n",
       "<table border=\"1\" class=\"dataframe\">\n",
       "  <thead>\n",
       "    <tr style=\"text-align: right;\">\n",
       "      <th></th>\n",
       "      <th>RatingID</th>\n",
       "      <th>RatingLevel</th>\n",
       "    </tr>\n",
       "  </thead>\n",
       "  <tbody>\n",
       "    <tr>\n",
       "      <th>0</th>\n",
       "      <td>1</td>\n",
       "      <td>Unacceptable</td>\n",
       "    </tr>\n",
       "    <tr>\n",
       "      <th>1</th>\n",
       "      <td>2</td>\n",
       "      <td>Needs Improvement</td>\n",
       "    </tr>\n",
       "    <tr>\n",
       "      <th>2</th>\n",
       "      <td>3</td>\n",
       "      <td>Meets Expectation</td>\n",
       "    </tr>\n",
       "    <tr>\n",
       "      <th>3</th>\n",
       "      <td>4</td>\n",
       "      <td>Exceeds Expectation</td>\n",
       "    </tr>\n",
       "    <tr>\n",
       "      <th>4</th>\n",
       "      <td>5</td>\n",
       "      <td>Above and Beyond</td>\n",
       "    </tr>\n",
       "  </tbody>\n",
       "</table>\n",
       "</div>"
      ],
      "text/plain": [
       "   RatingID           RatingLevel\n",
       "0         1          Unacceptable\n",
       "1         2     Needs Improvement\n",
       "2         3     Meets Expectation\n",
       "3         4  Exceeds Expectation \n",
       "4         5      Above and Beyond"
      ]
     },
     "execution_count": 53,
     "metadata": {},
     "output_type": "execute_result"
    }
   ],
   "source": [
    "# Creating dataframe for Rating\n",
    "rating_df=pd.read_csv('RatingLevel.csv')\n",
    "rating_df.head()"
   ]
  },
  {
   "cell_type": "code",
   "execution_count": 54,
   "id": "b0172a8f-9d30-4d30-b849-a59d5a4db144",
   "metadata": {},
   "outputs": [
    {
     "data": {
      "text/plain": [
       "RatingID        int64\n",
       "RatingLevel    object\n",
       "dtype: object"
      ]
     },
     "execution_count": 54,
     "metadata": {},
     "output_type": "execute_result"
    }
   ],
   "source": [
    "# Checking datatypes\n",
    "rating_df.dtypes"
   ]
  },
  {
   "cell_type": "code",
   "execution_count": 55,
   "id": "8978df71-eb57-4c28-8865-b7377ff8fde8",
   "metadata": {},
   "outputs": [
    {
     "data": {
      "text/plain": [
       "RatingID       0\n",
       "RatingLevel    0\n",
       "dtype: int64"
      ]
     },
     "execution_count": 55,
     "metadata": {},
     "output_type": "execute_result"
    }
   ],
   "source": [
    "#checking for null/errors\n",
    "rating_df.isna().sum()"
   ]
  },
  {
   "cell_type": "code",
   "execution_count": 56,
   "id": "c88e7461-ea08-438c-9cce-b076c5667403",
   "metadata": {},
   "outputs": [
    {
     "data": {
      "text/plain": [
       "0"
      ]
     },
     "execution_count": 56,
     "metadata": {},
     "output_type": "execute_result"
    }
   ],
   "source": [
    "#checking for duplicates\n",
    "rating_df.duplicated().sum()"
   ]
  },
  {
   "cell_type": "code",
   "execution_count": 57,
   "id": "84517b13-8c38-4c93-a6b0-5f2b0eafaa9d",
   "metadata": {},
   "outputs": [],
   "source": [
    "# Saving file as a CSV\n",
    "rating_df.to_csv('RatingLevel.csv',index=False)"
   ]
  },
  {
   "cell_type": "markdown",
   "id": "4d9d7d22-32f5-424a-820e-ec4d83b907e6",
   "metadata": {},
   "source": [
    " # Satisfaction Level Cleaning and Processing"
   ]
  },
  {
   "cell_type": "code",
   "execution_count": 58,
   "id": "5eadce3d-aee3-4803-98f9-d41e266a9d1f",
   "metadata": {},
   "outputs": [
    {
     "data": {
      "text/html": [
       "<div>\n",
       "<style scoped>\n",
       "    .dataframe tbody tr th:only-of-type {\n",
       "        vertical-align: middle;\n",
       "    }\n",
       "\n",
       "    .dataframe tbody tr th {\n",
       "        vertical-align: top;\n",
       "    }\n",
       "\n",
       "    .dataframe thead th {\n",
       "        text-align: right;\n",
       "    }\n",
       "</style>\n",
       "<table border=\"1\" class=\"dataframe\">\n",
       "  <thead>\n",
       "    <tr style=\"text-align: right;\">\n",
       "      <th></th>\n",
       "      <th>SatisfactionID</th>\n",
       "      <th>SatisfactionLevel</th>\n",
       "    </tr>\n",
       "  </thead>\n",
       "  <tbody>\n",
       "    <tr>\n",
       "      <th>0</th>\n",
       "      <td>1</td>\n",
       "      <td>Very Dissatisfied</td>\n",
       "    </tr>\n",
       "    <tr>\n",
       "      <th>1</th>\n",
       "      <td>2</td>\n",
       "      <td>Dissatisfied</td>\n",
       "    </tr>\n",
       "    <tr>\n",
       "      <th>2</th>\n",
       "      <td>3</td>\n",
       "      <td>Neutral</td>\n",
       "    </tr>\n",
       "    <tr>\n",
       "      <th>3</th>\n",
       "      <td>4</td>\n",
       "      <td>Satisfied</td>\n",
       "    </tr>\n",
       "    <tr>\n",
       "      <th>4</th>\n",
       "      <td>5</td>\n",
       "      <td>Very Satisfied</td>\n",
       "    </tr>\n",
       "  </tbody>\n",
       "</table>\n",
       "</div>"
      ],
      "text/plain": [
       "   SatisfactionID  SatisfactionLevel\n",
       "0               1  Very Dissatisfied\n",
       "1               2       Dissatisfied\n",
       "2               3            Neutral\n",
       "3               4         Satisfied \n",
       "4               5     Very Satisfied"
      ]
     },
     "execution_count": 58,
     "metadata": {},
     "output_type": "execute_result"
    }
   ],
   "source": [
    "#Creating Dataframe for Satisfaction\n",
    "satisfaction_df=pd.read_csv('SatisfiedLevel.csv')\n",
    "satisfaction_df.head()"
   ]
  },
  {
   "cell_type": "code",
   "execution_count": 60,
   "id": "b6b097f8-f747-4d55-a25b-9f64c587efaf",
   "metadata": {},
   "outputs": [
    {
     "data": {
      "text/plain": [
       "SatisfactionID        int64\n",
       "SatisfactionLevel    object\n",
       "dtype: object"
      ]
     },
     "execution_count": 60,
     "metadata": {},
     "output_type": "execute_result"
    }
   ],
   "source": [
    "# Checking datatypes\n",
    "satisfaction_df.dtypes"
   ]
  },
  {
   "cell_type": "code",
   "execution_count": 61,
   "id": "26746e2f-ab39-4378-a3b7-7e68b2951da9",
   "metadata": {},
   "outputs": [
    {
     "data": {
      "text/plain": [
       "SatisfactionID       0\n",
       "SatisfactionLevel    0\n",
       "dtype: int64"
      ]
     },
     "execution_count": 61,
     "metadata": {},
     "output_type": "execute_result"
    }
   ],
   "source": [
    "# checking for null/errors\n",
    "satisfaction_df.isna().sum()"
   ]
  },
  {
   "cell_type": "code",
   "execution_count": 62,
   "id": "a709c261-1bed-4d32-bb06-e8ae08a4f340",
   "metadata": {},
   "outputs": [
    {
     "data": {
      "text/plain": [
       "0"
      ]
     },
     "execution_count": 62,
     "metadata": {},
     "output_type": "execute_result"
    }
   ],
   "source": [
    "#checking for duplicates\n",
    "satisfaction_df.duplicated().sum()"
   ]
  },
  {
   "cell_type": "code",
   "execution_count": 63,
   "id": "1f5304ea-b603-4396-b93a-54ce0c032fe9",
   "metadata": {},
   "outputs": [],
   "source": [
    "# Saving file as a CSV\n",
    "satisfaction_df.to_csv('SatisfiedLevel.csv',index=False)"
   ]
  }
 ],
 "metadata": {
  "kernelspec": {
   "display_name": "Python 3 (ipykernel)",
   "language": "python",
   "name": "python3"
  },
  "language_info": {
   "codemirror_mode": {
    "name": "ipython",
    "version": 3
   },
   "file_extension": ".py",
   "mimetype": "text/x-python",
   "name": "python",
   "nbconvert_exporter": "python",
   "pygments_lexer": "ipython3",
   "version": "3.12.4"
  }
 },
 "nbformat": 4,
 "nbformat_minor": 5
}
